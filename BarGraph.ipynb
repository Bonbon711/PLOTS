import pandas as pd
import matplotlib.pyplot as plt

# Create the DataFrame
data = {
    'LABEL': ['D', 'D', 'D', 'F', 'F', 'F', 'I', 'N', 'N', 'S', 'S', 'S', 'S', 'S', 'S'],
    'COUNT': [1, 0, 1, 1, 0, 0, 1, 1, 0, 0, 1, 1, 0, 1, 0]
}
df = pd.DataFrame(data)

# Transform 1 into "Yes" and 0 into "No"
df['COUNT'] = df['COUNT'].map({1: 'Yes', 0: 'No'})

# Create a crosstab to prepare for the stacked bar chart
crosstab = pd.crosstab(df['LABEL'], df['COUNT'])

# Plot the horizontal stacked bar chart
crosstab.plot(kind='barh', stacked=True, color=['red', 'green'])
plt.xlabel('Count')
plt.ylabel('Label')
plt.title('Horizontal Stacked Bar Chart')
plt.legend(title='COUNT')
plt.show()
